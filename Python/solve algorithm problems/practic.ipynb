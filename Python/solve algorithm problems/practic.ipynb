{
  "nbformat": 4,
  "nbformat_minor": 0,
  "metadata": {
    "colab": {
      "provenance": [],
      "authorship_tag": "ABX9TyMJz9XzcbMfxcH5uREuEurR",
      "include_colab_link": true
    },
    "kernelspec": {
      "name": "python3",
      "display_name": "Python 3"
    },
    "language_info": {
      "name": "python"
    }
  },
  "cells": [
    {
      "cell_type": "markdown",
      "metadata": {
        "id": "view-in-github",
        "colab_type": "text"
      },
      "source": [
        "<a href=\"https://colab.research.google.com/github/EmpireAbdi/Algorithms-issues/blob/master/practic.ipynb\" target=\"_parent\"><img src=\"https://colab.research.google.com/assets/colab-badge.svg\" alt=\"Open In Colab\"/></a>"
      ]
    },
    {
      "cell_type": "markdown",
      "source": [
        "# Algorithm Question"
      ],
      "metadata": {
        "id": "tow-mIFgQ9YF"
      }
    },
    {
      "cell_type": "markdown",
      "source": [
        "برنامه ای بنویسید که سه عدد را بگیرد و میانگین آنها را چاپ کند"
      ],
      "metadata": {
        "id": "TVp9M3WHVMn1"
      }
    },
    {
      "cell_type": "code",
      "source": [
        "x = int(input(\"Insert X :\"))\n",
        "y = int(input(\"Insert Y :\"))\n",
        "z = int(input(\"Insert Z :\"))\n",
        "\n",
        "average = (x + y + z) / 3\n",
        "\n",
        "print(f\"Average is {average}\")"
      ],
      "metadata": {
        "colab": {
          "base_uri": "https://localhost:8080/"
        },
        "id": "P4xDjD-iVW8V",
        "outputId": "dfe3e0a7-e18a-4fbe-c180-f0aaa180d0a3"
      },
      "execution_count": null,
      "outputs": [
        {
          "output_type": "stream",
          "name": "stdout",
          "text": [
            "Insert X :3\n",
            "Insert Y :4\n",
            "Insert Z :5\n",
            "Average is 4.0\n"
          ]
        }
      ]
    },
    {
      "cell_type": "markdown",
      "source": [
        "حقوق کارگری را بگیرید و پس از کم کردن 10 درصد برای حق بیمه و 5 درصد برای حق مسکن حقوق خالص را چاپ نمایید"
      ],
      "metadata": {
        "id": "zfAAJuoJWuYP"
      }
    },
    {
      "cell_type": "code",
      "source": [
        "amount = float(input(\"Please Ensert Your amount : \"))\n",
        "\n",
        "output = (10 + 5) / 100\n",
        "\n",
        "org_amount = amount - (amount * output)\n",
        "\n",
        "print(f\"Your Org amount is {org_amount}\")"
      ],
      "metadata": {
        "colab": {
          "base_uri": "https://localhost:8080/"
        },
        "id": "pF1_iQ1nXjzC",
        "outputId": "08e807f4-41c4-4e87-ba21-84cb6c622688"
      },
      "execution_count": null,
      "outputs": [
        {
          "output_type": "stream",
          "name": "stdout",
          "text": [
            "Please Ensert Your amount : 1000\n",
            "Your Org amount is 850.0\n"
          ]
        }
      ]
    },
    {
      "cell_type": "markdown",
      "source": [
        "برنامه ای بنویسید که زمام را بر حسب ثانیه بگیرد و سپس بگوید چند ساعت و چند دقیقه و چند ثانیه است"
      ],
      "metadata": {
        "id": "sTkQ94QVY_Rc"
      }
    },
    {
      "cell_type": "code",
      "source": [
        "second_ = int(input(\"Please Ensert Second : \"))\n",
        "\n",
        "hour = int(second_ / 3600)\n",
        "minute = int((second_ / 60) - hour * 60)\n",
        "sond = (second_ - (hour * 60 * 60)) - minute * 60\n",
        "\n",
        "print(f\"hour : {hour}\")\n",
        "print(f\"minute : {minute}\")\n",
        "print(f\"second : {sond}\")"
      ],
      "metadata": {
        "colab": {
          "base_uri": "https://localhost:8080/"
        },
        "id": "F2e_3S28ZQBa",
        "outputId": "6d9c8823-c65f-410f-db50-3da32e2fde28"
      },
      "execution_count": null,
      "outputs": [
        {
          "output_type": "stream",
          "name": "stdout",
          "text": [
            "Please Ensert Second : 4210\n",
            "hour : 1\n",
            "minute : 10\n",
            "second : 10\n"
          ]
        }
      ]
    },
    {
      "cell_type": "markdown",
      "source": [
        "برنامه ای بنویسید که اعداد دو رقمی زوج را نشان دهد"
      ],
      "metadata": {
        "id": "n9534MLVdyCV"
      }
    },
    {
      "cell_type": "code",
      "source": [
        "# ----------Soloution one----------\n",
        "# for i in range(10, 100, 2):\n",
        "#   print(i)\n",
        "\n",
        "# ----------Soloution Two----------\n",
        "i = 10\n",
        "while i < 100:\n",
        "  if i % 2 == 0:\n",
        "    print(i, '\\t', end='')\n",
        "  i += 1"
      ],
      "metadata": {
        "colab": {
          "base_uri": "https://localhost:8080/"
        },
        "id": "p3EjCeBKd-h9",
        "outputId": "4d6f457f-4848-4757-f62e-7c8a0c706396"
      },
      "execution_count": null,
      "outputs": [
        {
          "output_type": "stream",
          "name": "stdout",
          "text": [
            "10 \t12 \t14 \t16 \t18 \t20 \t22 \t24 \t26 \t28 \t30 \t32 \t34 \t36 \t38 \t40 \t42 \t44 \t46 \t48 \t50 \t52 \t54 \t56 \t58 \t60 \t62 \t64 \t66 \t68 \t70 \t72 \t74 \t76 \t78 \t80 \t82 \t84 \t86 \t88 \t90 \t92 \t94 \t96 \t98 \t"
          ]
        }
      ]
    },
    {
      "cell_type": "markdown",
      "source": [
        "برنامه ای بنویسید که عددی را ورودی بگیرد و سپس اعداد فرد کوچکتر یا مساوی آن را چاپ کند"
      ],
      "metadata": {
        "id": "5y1Iy-8fe2TG"
      }
    },
    {
      "cell_type": "code",
      "source": [
        "number = int(input(\"Pleae Enter a Number : \"))\n",
        "\n",
        "while number > 0:\n",
        "  if number % 2 != 0:\n",
        "    print(number, '\\t', end='')\n",
        "  number -= 1"
      ],
      "metadata": {
        "colab": {
          "base_uri": "https://localhost:8080/"
        },
        "id": "1G0itGjkfCZ7",
        "outputId": "8146ec95-44d7-4ba3-f508-54a5653fa755"
      },
      "execution_count": null,
      "outputs": [
        {
          "output_type": "stream",
          "name": "stdout",
          "text": [
            "Pleae Enter a Number : 20\n",
            "19 \t17 \t15 \t13 \t11 \t9 \t7 \t5 \t3 \t1 \t"
          ]
        }
      ]
    },
    {
      "cell_type": "markdown",
      "source": [
        "برنامه ای بنویسید که اعداد زوج بین دو عدد را چاپ کند و در نهایت مجموع آنها را هم چاپ کند"
      ],
      "metadata": {
        "id": "KLfyvCuofnKt"
      }
    },
    {
      "cell_type": "code",
      "source": [
        "x = int(input(\"Please Ensert First : \"))\n",
        "y = int(input(\"Please Ensert Last : \"))\n",
        "\n",
        "max_ = max(x, y)\n",
        "min_ = min(x, y)\n",
        "\n",
        "total = 0\n",
        "\n",
        "while min_ <= max_:\n",
        "  if min_ % 2 == 0:\n",
        "    print(min_ ,'\\t', end='')\n",
        "    total += min_\n",
        "  min_ += 2\n",
        "\n",
        "print()\n",
        "print(f\"Total is {total}\")\n"
      ],
      "metadata": {
        "colab": {
          "base_uri": "https://localhost:8080/"
        },
        "id": "KUyx_XNEgLSS",
        "outputId": "1995ff41-882e-496a-b52b-79c8d793cf98"
      },
      "execution_count": null,
      "outputs": [
        {
          "output_type": "stream",
          "name": "stdout",
          "text": [
            "Please Ensert First : 1000\n",
            "Please Ensert Last : 2000\n",
            "1000 \t1002 \t1004 \t1006 \t1008 \t1010 \t1012 \t1014 \t1016 \t1018 \t1020 \t1022 \t1024 \t1026 \t1028 \t1030 \t1032 \t1034 \t1036 \t1038 \t1040 \t1042 \t1044 \t1046 \t1048 \t1050 \t1052 \t1054 \t1056 \t1058 \t1060 \t1062 \t1064 \t1066 \t1068 \t1070 \t1072 \t1074 \t1076 \t1078 \t1080 \t1082 \t1084 \t1086 \t1088 \t1090 \t1092 \t1094 \t1096 \t1098 \t1100 \t1102 \t1104 \t1106 \t1108 \t1110 \t1112 \t1114 \t1116 \t1118 \t1120 \t1122 \t1124 \t1126 \t1128 \t1130 \t1132 \t1134 \t1136 \t1138 \t1140 \t1142 \t1144 \t1146 \t1148 \t1150 \t1152 \t1154 \t1156 \t1158 \t1160 \t1162 \t1164 \t1166 \t1168 \t1170 \t1172 \t1174 \t1176 \t1178 \t1180 \t1182 \t1184 \t1186 \t1188 \t1190 \t1192 \t1194 \t1196 \t1198 \t1200 \t1202 \t1204 \t1206 \t1208 \t1210 \t1212 \t1214 \t1216 \t1218 \t1220 \t1222 \t1224 \t1226 \t1228 \t1230 \t1232 \t1234 \t1236 \t1238 \t1240 \t1242 \t1244 \t1246 \t1248 \t1250 \t1252 \t1254 \t1256 \t1258 \t1260 \t1262 \t1264 \t1266 \t1268 \t1270 \t1272 \t1274 \t1276 \t1278 \t1280 \t1282 \t1284 \t1286 \t1288 \t1290 \t1292 \t1294 \t1296 \t1298 \t1300 \t1302 \t1304 \t1306 \t1308 \t1310 \t1312 \t1314 \t1316 \t1318 \t1320 \t1322 \t1324 \t1326 \t1328 \t1330 \t1332 \t1334 \t1336 \t1338 \t1340 \t1342 \t1344 \t1346 \t1348 \t1350 \t1352 \t1354 \t1356 \t1358 \t1360 \t1362 \t1364 \t1366 \t1368 \t1370 \t1372 \t1374 \t1376 \t1378 \t1380 \t1382 \t1384 \t1386 \t1388 \t1390 \t1392 \t1394 \t1396 \t1398 \t1400 \t1402 \t1404 \t1406 \t1408 \t1410 \t1412 \t1414 \t1416 \t1418 \t1420 \t1422 \t1424 \t1426 \t1428 \t1430 \t1432 \t1434 \t1436 \t1438 \t1440 \t1442 \t1444 \t1446 \t1448 \t1450 \t1452 \t1454 \t1456 \t1458 \t1460 \t1462 \t1464 \t1466 \t1468 \t1470 \t1472 \t1474 \t1476 \t1478 \t1480 \t1482 \t1484 \t1486 \t1488 \t1490 \t1492 \t1494 \t1496 \t1498 \t1500 \t1502 \t1504 \t1506 \t1508 \t1510 \t1512 \t1514 \t1516 \t1518 \t1520 \t1522 \t1524 \t1526 \t1528 \t1530 \t1532 \t1534 \t1536 \t1538 \t1540 \t1542 \t1544 \t1546 \t1548 \t1550 \t1552 \t1554 \t1556 \t1558 \t1560 \t1562 \t1564 \t1566 \t1568 \t1570 \t1572 \t1574 \t1576 \t1578 \t1580 \t1582 \t1584 \t1586 \t1588 \t1590 \t1592 \t1594 \t1596 \t1598 \t1600 \t1602 \t1604 \t1606 \t1608 \t1610 \t1612 \t1614 \t1616 \t1618 \t1620 \t1622 \t1624 \t1626 \t1628 \t1630 \t1632 \t1634 \t1636 \t1638 \t1640 \t1642 \t1644 \t1646 \t1648 \t1650 \t1652 \t1654 \t1656 \t1658 \t1660 \t1662 \t1664 \t1666 \t1668 \t1670 \t1672 \t1674 \t1676 \t1678 \t1680 \t1682 \t1684 \t1686 \t1688 \t1690 \t1692 \t1694 \t1696 \t1698 \t1700 \t1702 \t1704 \t1706 \t1708 \t1710 \t1712 \t1714 \t1716 \t1718 \t1720 \t1722 \t1724 \t1726 \t1728 \t1730 \t1732 \t1734 \t1736 \t1738 \t1740 \t1742 \t1744 \t1746 \t1748 \t1750 \t1752 \t1754 \t1756 \t1758 \t1760 \t1762 \t1764 \t1766 \t1768 \t1770 \t1772 \t1774 \t1776 \t1778 \t1780 \t1782 \t1784 \t1786 \t1788 \t1790 \t1792 \t1794 \t1796 \t1798 \t1800 \t1802 \t1804 \t1806 \t1808 \t1810 \t1812 \t1814 \t1816 \t1818 \t1820 \t1822 \t1824 \t1826 \t1828 \t1830 \t1832 \t1834 \t1836 \t1838 \t1840 \t1842 \t1844 \t1846 \t1848 \t1850 \t1852 \t1854 \t1856 \t1858 \t1860 \t1862 \t1864 \t1866 \t1868 \t1870 \t1872 \t1874 \t1876 \t1878 \t1880 \t1882 \t1884 \t1886 \t1888 \t1890 \t1892 \t1894 \t1896 \t1898 \t1900 \t1902 \t1904 \t1906 \t1908 \t1910 \t1912 \t1914 \t1916 \t1918 \t1920 \t1922 \t1924 \t1926 \t1928 \t1930 \t1932 \t1934 \t1936 \t1938 \t1940 \t1942 \t1944 \t1946 \t1948 \t1950 \t1952 \t1954 \t1956 \t1958 \t1960 \t1962 \t1964 \t1966 \t1968 \t1970 \t1972 \t1974 \t1976 \t1978 \t1980 \t1982 \t1984 \t1986 \t1988 \t1990 \t1992 \t1994 \t1996 \t1998 \t2000 \t\n",
            "Total is 751500\n"
          ]
        }
      ]
    },
    {
      "cell_type": "markdown",
      "source": [
        "برنامه ای بنویسید که عددی از کاربر بگیرد و مجموعه زیر را چاپ کند\n",
        "\n",
        "s = 1 + 1/2 + 1/3 + 1/4 + 1/5 + 1/n"
      ],
      "metadata": {
        "id": "xIGAqMA0kkmY"
      }
    },
    {
      "cell_type": "code",
      "source": [
        "n = int(input(\"Please Ensert Number : \"))\n",
        "\n",
        "s = 0\n",
        "\n",
        "i = 1\n",
        "\n",
        "while i < n:\n",
        "  s += 1/i\n",
        "  i += 1\n",
        "\n",
        "print(f\"{s:.3}\")"
      ],
      "metadata": {
        "colab": {
          "base_uri": "https://localhost:8080/"
        },
        "id": "6l7SUJvPlMl_",
        "outputId": "46b37a94-daee-4fbd-8fec-a5b3a5604713"
      },
      "execution_count": null,
      "outputs": [
        {
          "output_type": "stream",
          "name": "stdout",
          "text": [
            "Please Ensert Number : 6\n",
            "2.28\n"
          ]
        }
      ]
    },
    {
      "cell_type": "markdown",
      "source": [
        "برنامه ای بنویسید که یک عدد طبیعی بگیرد و مجموعه ی زیر را محاسبه کند\n",
        "\n",
        "s = 1/2 + 1/4 + 1/6 + 1/8 + 1/n"
      ],
      "metadata": {
        "id": "ATsKKimqmva1"
      }
    },
    {
      "cell_type": "code",
      "source": [
        "n = int(input(\"Please Ensert a Number : \"))\n",
        "\n",
        "i = 2\n",
        "\n",
        "s = 0\n",
        "\n",
        "while i < n:\n",
        "  s += (1/i)\n",
        "  i += 2\n",
        "\n",
        "print(s)"
      ],
      "metadata": {
        "colab": {
          "base_uri": "https://localhost:8080/"
        },
        "id": "IH5HZZ0inPO9",
        "outputId": "c8c071d7-f776-4417-a3e9-244e2538bab3"
      },
      "execution_count": null,
      "outputs": [
        {
          "output_type": "stream",
          "name": "stdout",
          "text": [
            "Please Ensert a Number : 10\n",
            "1.0416666666666665\n"
          ]
        }
      ]
    },
    {
      "cell_type": "markdown",
      "source": [
        "برنامه ای بنویسید که یک عدد طبیعی بگیرد و مجموعه ی زیر را محاسبه کند\n",
        "\n",
        "s = 1 /(3 ** 1) + 2 /(3 ** 2) + 3/(3 ** 3) + n/(3 ** n)"
      ],
      "metadata": {
        "id": "ODCl7EAeoWju"
      }
    },
    {
      "cell_type": "code",
      "source": [
        "n = int(input(\"Please Ensert a Number : \"))\n",
        "\n",
        "i = 1\n",
        "\n",
        "s = 0\n",
        "\n",
        "while i < n:\n",
        "  s += i/(3 ** i)\n",
        "  i += 1\n",
        "\n",
        "print(s)"
      ],
      "metadata": {
        "colab": {
          "base_uri": "https://localhost:8080/"
        },
        "id": "k00ydyBIo3zl",
        "outputId": "63d977c8-3077-423a-99cb-2d91fbbe7591"
      },
      "execution_count": null,
      "outputs": [
        {
          "output_type": "stream",
          "name": "stdout",
          "text": [
            "Please Ensert a Number : 5\n",
            "0.7160493827160495\n"
          ]
        }
      ]
    },
    {
      "cell_type": "markdown",
      "source": [
        "برنامه ای بنویسید که سه عدد ایکس و وای و زد را بگیرد و سپس تعیین کند که یک مثلث تشکیل می شود یا نه"
      ],
      "metadata": {
        "id": "pm_iINJIqUMm"
      }
    },
    {
      "cell_type": "code",
      "source": [
        "x = int(input(\"Insert the X :\"))\n",
        "y = int(input(\"Insert the Y :\"))\n",
        "z = int(input(\"Insert the Z :\"))\n",
        "\n",
        "if x + y > z and x + z > y and y + z > x:\n",
        "  print(\"It's a Triangle\")\n",
        "else:\n",
        "  print(\"It's not a Triangle\")"
      ],
      "metadata": {
        "colab": {
          "base_uri": "https://localhost:8080/"
        },
        "id": "HXy1mTzzqtEq",
        "outputId": "03d8e051-1931-410a-fb8b-c35de32fd370"
      },
      "execution_count": null,
      "outputs": [
        {
          "output_type": "stream",
          "name": "stdout",
          "text": [
            "Insert the X :4\n",
            "Insert the Y :3\n",
            "Insert the Z :5\n",
            "It's a Triangle\n"
          ]
        }
      ]
    },
    {
      "cell_type": "markdown",
      "source": [
        "برنامه ای بنویسید که طول اضلاع مثلث را بگیرد پس اینکه تایین کرد که مثل است چک کند ببیند که آیا قائم الزاویه هست یا نه ؟"
      ],
      "metadata": {
        "id": "SDKbx17emFAO"
      }
    },
    {
      "cell_type": "code",
      "source": [
        "x = int(input(\"Insert the X :\"))\n",
        "y = int(input(\"Insert the Y :\"))\n",
        "z = int(input(\"Insert the Z :\"))\n",
        "\n",
        "if x + y > z and x + z > y and y + z > x:\n",
        "  print(\"It's a Triangle\")\n",
        "  if x ** 2 == y ** 2 + z ** 2 or y ** 2 == x ** 2 + z ** 2 or z ** 2 == y ** 2 + x ** 2:\n",
        "    print(\"It's A Ghaemol Zavie\")\n",
        "  else:\n",
        "    print(\"but not a Ghaemol Zavie\")\n",
        "else:\n",
        "  print(\"It's not a Triangle\")"
      ],
      "metadata": {
        "colab": {
          "base_uri": "https://localhost:8080/"
        },
        "id": "A6fK3wLQm603",
        "outputId": "e8e9fe88-2558-4a2a-f0a3-982317a9e408"
      },
      "execution_count": null,
      "outputs": [
        {
          "output_type": "stream",
          "name": "stdout",
          "text": [
            "Insert the X :5\n",
            "Insert the Y :3\n",
            "Insert the Z :4\n",
            "It's a Triangle\n",
            "It's A Ghaemol Zavie\n"
          ]
        }
      ]
    },
    {
      "cell_type": "markdown",
      "source": [
        "برنامه ای بنوسید که  10 عدد بگیرد و یکی یکی چاپ کند و بعد مجموع آنها را چاپ کند"
      ],
      "metadata": {
        "id": "cAw3299FoV93"
      }
    },
    {
      "cell_type": "code",
      "source": [
        "numbers = []\n",
        "\n",
        "i = 0\n",
        "\n",
        "while i < 10:\n",
        "  num = int(input(\"Please Ensert A Number : \"))\n",
        "  numbers.append(num)\n",
        "  print(num)\n",
        "  i += 1\n",
        "\n",
        "print(f\"The Sum of All Numbers : {sum(numbers)}\")"
      ],
      "metadata": {
        "colab": {
          "base_uri": "https://localhost:8080/"
        },
        "id": "zQaViV5fomAm",
        "outputId": "06188efa-3e48-4fbf-99f5-ef2d3f12f77f"
      },
      "execution_count": null,
      "outputs": [
        {
          "output_type": "stream",
          "name": "stdout",
          "text": [
            "Please Ensert A Number : 1\n",
            "1\n",
            "Please Ensert A Number : 2\n",
            "2\n",
            "Please Ensert A Number : 3\n",
            "3\n",
            "Please Ensert A Number : 4\n",
            "4\n",
            "Please Ensert A Number : 5\n",
            "Please Ensert A Number : 6\n",
            "5\n",
            "6\n",
            "Please Ensert A Number : 7\n",
            "7\n",
            "Please Ensert A Number : 8\n",
            "8\n",
            "Please Ensert A Number : 9\n",
            "9\n",
            "Please Ensert A Number : 10\n",
            "10\n",
            "The Sum of All Numbers : 55\n"
          ]
        }
      ]
    },
    {
      "cell_type": "markdown",
      "source": [
        "برنامه ای بنویسید که دو عدد بگیرید و بزرگترین و کوچکترین  عدد را مشخص کند و اگر هر دو عدد برابر بودند آن دو عدد را از اول بگیرد"
      ],
      "metadata": {
        "id": "54dnWb1JqZFM"
      }
    },
    {
      "cell_type": "code",
      "source": [
        "while True:\n",
        "  x = int(input(\"Insert X : \"))\n",
        "  y = int(input(\"Insert Y : \"))\n",
        "  z = int(input(\"Insert Z : \"))\n",
        "\n",
        "  if x != y and x != z and y != z:\n",
        "    print(f\"MAX is : {max(x, y, z)}\")\n",
        "    print(f\"MIN is : {min(x, y, z)}\")\n",
        "    break\n",
        "  else:\n",
        "    print(\"Please Try Again\")"
      ],
      "metadata": {
        "colab": {
          "base_uri": "https://localhost:8080/"
        },
        "id": "QJBuHqCSqv5k",
        "outputId": "274a22ef-79f1-4b5f-b205-5bfc51b43c10"
      },
      "execution_count": null,
      "outputs": [
        {
          "output_type": "stream",
          "name": "stdout",
          "text": [
            "Insert X : 3\n",
            "Insert Y : 3\n",
            "Please Try Again\n",
            "Insert X : 5\n",
            "Insert Y : 4\n",
            "MAX is : 5\n",
            "MIN is : 4\n"
          ]
        }
      ]
    },
    {
      "cell_type": "markdown",
      "source": [
        "برنامه ای بنویسید که عدد صحیح مثبت را بگیرد و تعیین کند که زوج است یا منفی"
      ],
      "metadata": {
        "id": "Rq9i5Xferk9d"
      }
    },
    {
      "cell_type": "code",
      "source": [
        "x = int(input(\"Please Ensert A Number : \"))\n",
        "\n",
        "if x > 0 and x % 2 == 0:\n",
        "  print(\"It's Posetive and Even\")\n",
        "else:\n",
        "  print(\"Mabye It's Not Posetive or Even\")"
      ],
      "metadata": {
        "colab": {
          "base_uri": "https://localhost:8080/"
        },
        "id": "a8kNZCP_se61",
        "outputId": "bea82907-49ab-4192-8051-d0b7a471adaa"
      },
      "execution_count": null,
      "outputs": [
        {
          "output_type": "stream",
          "name": "stdout",
          "text": [
            "Please Ensert A Number : 6\n",
            "It's Posetive and Even\n"
          ]
        }
      ]
    },
    {
      "cell_type": "markdown",
      "source": [
        "برنامه ای بنویسید که عددی را بگیرد و مقسوم علیه های آن را چاپ کند و تعداد آنها و مجموع آنها"
      ],
      "metadata": {
        "id": "9pVqbgahtK6E"
      }
    },
    {
      "cell_type": "code",
      "source": [
        "n = int(input(\"Please Ensert A Number : \"))\n",
        "\n",
        "total = 0\n",
        "count = 0\n",
        "\n",
        "for i in range(1, n + 1):\n",
        "  if n % i == 0:\n",
        "    total += i\n",
        "    count += 1\n",
        "    print(i)\n",
        "\n",
        "print(f\"Number of Maghsums {count}\")\n",
        "print(f\"Total of Maghsums {total}\")"
      ],
      "metadata": {
        "colab": {
          "base_uri": "https://localhost:8080/"
        },
        "id": "Nf33mQcqtZF8",
        "outputId": "302f6ab2-b696-464f-aa40-577e3071dca8"
      },
      "execution_count": null,
      "outputs": [
        {
          "output_type": "stream",
          "name": "stdout",
          "text": [
            "Please Ensert A Number : 12\n",
            "1\n",
            "2\n",
            "3\n",
            "4\n",
            "6\n",
            "12\n",
            "Number of Maghsums 6\n",
            "Total of Maghsums 28\n"
          ]
        }
      ]
    },
    {
      "cell_type": "markdown",
      "source": [
        "برنامه ای بنویسید که عددی را بگیرد و تعیین کند که عدد تام یا کامل یا نه ؟"
      ],
      "metadata": {
        "id": "uJFhsolbvEa8"
      }
    },
    {
      "cell_type": "code",
      "source": [
        "n = int(input(\"Please Ensert A Number : \"))\n",
        "\n",
        "maghsums = 0\n",
        "\n",
        "for i in range(1, n):\n",
        "  if n % i == 0:\n",
        "    maghsums += i\n",
        "\n",
        "if maghsums == n:\n",
        "  print(\"It's A complete Number\")\n",
        "else:\n",
        "  print(\"It's Not a Complete Number\")"
      ],
      "metadata": {
        "colab": {
          "base_uri": "https://localhost:8080/"
        },
        "id": "l4dyS43tvOib",
        "outputId": "93cf2769-a3ae-4e22-df53-1c999d64c135"
      },
      "execution_count": null,
      "outputs": [
        {
          "output_type": "stream",
          "name": "stdout",
          "text": [
            "Please Ensert A Number : 28\n",
            "It's A complete Number\n"
          ]
        }
      ]
    },
    {
      "cell_type": "markdown",
      "source": [
        "برنامه ای بنویسید که عددی از ورودی بگیرد و تعیین کند که عدد اول است یا خیر"
      ],
      "metadata": {
        "id": "UI2W1sdUw62U"
      }
    },
    {
      "cell_type": "code",
      "source": [
        "n = int(input(\"Please Ensert A Number : \"))\n",
        "\n",
        "\n",
        "if n > 1:\n",
        "  for i in range(2, n):\n",
        "    if n % i == 0:\n",
        "      print(\"It's Not Prime\")\n",
        "      break\n",
        "  else:\n",
        "    print(\"It's Prime\")\n",
        "else:\n",
        "  print(\"It's Not Prime\")"
      ],
      "metadata": {
        "colab": {
          "base_uri": "https://localhost:8080/"
        },
        "id": "pN69yDkIxDeq",
        "outputId": "222bd316-45af-49cb-b14d-f8cb04f6acba"
      },
      "execution_count": null,
      "outputs": [
        {
          "output_type": "stream",
          "name": "stdout",
          "text": [
            "Please Ensert A Number : 13\n",
            "It's Prime\n"
          ]
        }
      ]
    },
    {
      "cell_type": "markdown",
      "source": [
        "برنامه ای بنویسید که عددی را دریافت کند و فاکتوریل آن را چاپ کند"
      ],
      "metadata": {
        "id": "SGZQmuqryoRS"
      }
    },
    {
      "cell_type": "code",
      "source": [
        "n = int(input(\"Please Ensert A Number : \"))\n",
        "\n",
        "total = 1\n",
        "\n",
        "for i in range(1, n + 1):\n",
        "  total *= i\n",
        "\n",
        "print(f\"The Factorial {n} is {total}\")"
      ],
      "metadata": {
        "colab": {
          "base_uri": "https://localhost:8080/"
        },
        "id": "D0XjNJL20VDB",
        "outputId": "a4fa6c20-774e-4c3d-f419-f33af2cec8f0"
      },
      "execution_count": null,
      "outputs": [
        {
          "output_type": "stream",
          "name": "stdout",
          "text": [
            "Please Ensert A Number : 4\n",
            "The Factorial 4 is 24\n"
          ]
        }
      ]
    },
    {
      "cell_type": "markdown",
      "source": [
        "برنامه ای بنویسید که حاصل عبارت زیر را بدهد\n",
        "\n",
        "*   total = 1! + 2! + 3! + 4! + n!\n",
        "\n",
        "\n",
        "\n"
      ],
      "metadata": {
        "id": "xDhyUEQx1_xp"
      }
    },
    {
      "cell_type": "code",
      "source": [
        "n = int(input(\"Please Ensert A Number : \"))\n",
        "\n",
        "total = 0\n",
        "\n",
        "for i in range(1, n + 1):\n",
        "  mini_total = 1\n",
        "  for j in range(1, i + 1):\n",
        "    mini_total *= j\n",
        "  total += mini_total\n",
        "\n",
        "print(f\"The Result is : {total}\")"
      ],
      "metadata": {
        "colab": {
          "base_uri": "https://localhost:8080/"
        },
        "id": "ckYe9UI82Z9X",
        "outputId": "21f1819e-6a0a-495d-d554-e0a7e278058f"
      },
      "execution_count": null,
      "outputs": [
        {
          "output_type": "stream",
          "name": "stdout",
          "text": [
            "Please Ensert A Number : 3\n",
            "The Result is : 9\n"
          ]
        }
      ]
    },
    {
      "cell_type": "markdown",
      "source": [
        "برنامه ای بنویسید که کلیه مقسوم علیه های اعداد بین 2 تا 500 را برای هر کدام به طور جداگانه چاپ کند"
      ],
      "metadata": {
        "id": "bT8VUNRC35fI"
      }
    },
    {
      "cell_type": "code",
      "source": [
        "t = 2\n",
        "\n",
        "while t <= 50:\n",
        "  print(f\"Maghsums {t}:\")\n",
        "  for i in range(1, t + 1):\n",
        "    if t % i == 0:\n",
        "      print(i,)\n",
        "  t += 1"
      ],
      "metadata": {
        "colab": {
          "base_uri": "https://localhost:8080/"
        },
        "id": "WnVr4fZy4KjQ",
        "outputId": "67165b91-52e2-4329-c660-a002807d3ed7"
      },
      "execution_count": null,
      "outputs": [
        {
          "output_type": "stream",
          "name": "stdout",
          "text": [
            "Maghsums 2:\n",
            "1\n",
            "2\n",
            "Maghsums 3:\n",
            "1\n",
            "3\n",
            "Maghsums 4:\n",
            "1\n",
            "2\n",
            "4\n",
            "Maghsums 5:\n",
            "1\n",
            "5\n",
            "Maghsums 6:\n",
            "1\n",
            "2\n",
            "3\n",
            "6\n",
            "Maghsums 7:\n",
            "1\n",
            "7\n",
            "Maghsums 8:\n",
            "1\n",
            "2\n",
            "4\n",
            "8\n",
            "Maghsums 9:\n",
            "1\n",
            "3\n",
            "9\n",
            "Maghsums 10:\n",
            "1\n",
            "2\n",
            "5\n",
            "10\n",
            "Maghsums 11:\n",
            "1\n",
            "11\n",
            "Maghsums 12:\n",
            "1\n",
            "2\n",
            "3\n",
            "4\n",
            "6\n",
            "12\n",
            "Maghsums 13:\n",
            "1\n",
            "13\n",
            "Maghsums 14:\n",
            "1\n",
            "2\n",
            "7\n",
            "14\n",
            "Maghsums 15:\n",
            "1\n",
            "3\n",
            "5\n",
            "15\n",
            "Maghsums 16:\n",
            "1\n",
            "2\n",
            "4\n",
            "8\n",
            "16\n",
            "Maghsums 17:\n",
            "1\n",
            "17\n",
            "Maghsums 18:\n",
            "1\n",
            "2\n",
            "3\n",
            "6\n",
            "9\n",
            "18\n",
            "Maghsums 19:\n",
            "1\n",
            "19\n",
            "Maghsums 20:\n",
            "1\n",
            "2\n",
            "4\n",
            "5\n",
            "10\n",
            "20\n",
            "Maghsums 21:\n",
            "1\n",
            "3\n",
            "7\n",
            "21\n",
            "Maghsums 22:\n",
            "1\n",
            "2\n",
            "11\n",
            "22\n",
            "Maghsums 23:\n",
            "1\n",
            "23\n",
            "Maghsums 24:\n",
            "1\n",
            "2\n",
            "3\n",
            "4\n",
            "6\n",
            "8\n",
            "12\n",
            "24\n",
            "Maghsums 25:\n",
            "1\n",
            "5\n",
            "25\n",
            "Maghsums 26:\n",
            "1\n",
            "2\n",
            "13\n",
            "26\n",
            "Maghsums 27:\n",
            "1\n",
            "3\n",
            "9\n",
            "27\n",
            "Maghsums 28:\n",
            "1\n",
            "2\n",
            "4\n",
            "7\n",
            "14\n",
            "28\n",
            "Maghsums 29:\n",
            "1\n",
            "29\n",
            "Maghsums 30:\n",
            "1\n",
            "2\n",
            "3\n",
            "5\n",
            "6\n",
            "10\n",
            "15\n",
            "30\n",
            "Maghsums 31:\n",
            "1\n",
            "31\n",
            "Maghsums 32:\n",
            "1\n",
            "2\n",
            "4\n",
            "8\n",
            "16\n",
            "32\n",
            "Maghsums 33:\n",
            "1\n",
            "3\n",
            "11\n",
            "33\n",
            "Maghsums 34:\n",
            "1\n",
            "2\n",
            "17\n",
            "34\n",
            "Maghsums 35:\n",
            "1\n",
            "5\n",
            "7\n",
            "35\n",
            "Maghsums 36:\n",
            "1\n",
            "2\n",
            "3\n",
            "4\n",
            "6\n",
            "9\n",
            "12\n",
            "18\n",
            "36\n",
            "Maghsums 37:\n",
            "1\n",
            "37\n",
            "Maghsums 38:\n",
            "1\n",
            "2\n",
            "19\n",
            "38\n",
            "Maghsums 39:\n",
            "1\n",
            "3\n",
            "13\n",
            "39\n",
            "Maghsums 40:\n",
            "1\n",
            "2\n",
            "4\n",
            "5\n",
            "8\n",
            "10\n",
            "20\n",
            "40\n",
            "Maghsums 41:\n",
            "1\n",
            "41\n",
            "Maghsums 42:\n",
            "1\n",
            "2\n",
            "3\n",
            "6\n",
            "7\n",
            "14\n",
            "21\n",
            "42\n",
            "Maghsums 43:\n",
            "1\n",
            "43\n",
            "Maghsums 44:\n",
            "1\n",
            "2\n",
            "4\n",
            "11\n",
            "22\n",
            "44\n",
            "Maghsums 45:\n",
            "1\n",
            "3\n",
            "5\n",
            "9\n",
            "15\n",
            "45\n",
            "Maghsums 46:\n",
            "1\n",
            "2\n",
            "23\n",
            "46\n",
            "Maghsums 47:\n",
            "1\n",
            "47\n",
            "Maghsums 48:\n",
            "1\n",
            "2\n",
            "3\n",
            "4\n",
            "6\n",
            "8\n",
            "12\n",
            "16\n",
            "24\n",
            "48\n",
            "Maghsums 49:\n",
            "1\n",
            "7\n",
            "49\n",
            "Maghsums 50:\n",
            "1\n",
            "2\n",
            "5\n",
            "10\n",
            "25\n",
            "50\n"
          ]
        }
      ]
    },
    {
      "cell_type": "markdown",
      "source": [
        "برنامه ای بنویسید که روز و ماه را از کاربر بگیرد و تعیین کند که در روز چندم ماه است."
      ],
      "metadata": {
        "id": "ckrP-QjJa0XX"
      }
    },
    {
      "cell_type": "code",
      "source": [
        "month = int(input(\"Please Ensert a Month of Year : \"))\n",
        "day = int(input(\"Please Ensert a Day Of Month : \"))\n",
        "\n",
        "if 0 < day <= 31 and 0 < month <= 12:\n",
        "  if month <= 6:\n",
        "    days = month * 31 + day\n",
        "    print(f\"You're in {days} in Year.\")\n",
        "  else:\n",
        "    month_30 = (month - 7) * 30\n",
        "    days = 186 + month_30 + day\n",
        "    print(f\"You're in {days} in Year.\")"
      ],
      "metadata": {
        "colab": {
          "base_uri": "https://localhost:8080/"
        },
        "id": "4001OJ_ZbDVP",
        "outputId": "dd963fba-e24d-4d16-b14e-fd3e5d82501e"
      },
      "execution_count": null,
      "outputs": [
        {
          "output_type": "stream",
          "name": "stdout",
          "text": [
            "Please Ensert a Month of Year : 12\n",
            "Please Ensert a Day Of Month : 30\n",
            "You're in 366 in Year.\n"
          ]
        }
      ]
    },
    {
      "cell_type": "markdown",
      "source": [
        "برنامه ای بنویسید که عدد زوج و مثبت را دریافت کند و خروجی زیر را بدهد\n",
        "\n",
        "S = 1/2 -2/3 + 3/4 - 4/5 +....+n-1/n"
      ],
      "metadata": {
        "id": "B6q3JwIzfHJl"
      }
    },
    {
      "cell_type": "code",
      "source": [
        "n = int(input(\"Please Ensert a Number : \"))\n",
        "\n",
        "isPosetive = False\n",
        "\n",
        "if n > 0:\n",
        "  total = 0\n",
        "  for i in range(1 , n + 1):\n",
        "    if isPosetive:\n",
        "      total += i - 1 / i\n",
        "      isPosetive = not(isPosetive)\n",
        "    else:\n",
        "      total -= i - 1 / i\n",
        "      isPosetive = not(isPosetive)\n",
        "  print(f\"{total:.4}\")"
      ],
      "metadata": {
        "colab": {
          "base_uri": "https://localhost:8080/"
        },
        "id": "M7R6G71sgUl0",
        "outputId": "31521a86-aa0b-4c0c-c360-07fdbca7d602"
      },
      "execution_count": null,
      "outputs": [
        {
          "output_type": "stream",
          "name": "stdout",
          "text": [
            "Please Ensert a Number : 5\n",
            "-2.217\n"
          ]
        }
      ]
    },
    {
      "cell_type": "markdown",
      "source": [
        "برنامه ای بنویسید که دو عدد صحیح و مثبت را دریافت و ب.م.م و ک.م.م آنها را مشخص کند"
      ],
      "metadata": {
        "id": "nT_LzdOgipJ0"
      }
    },
    {
      "cell_type": "code",
      "source": [
        "m = int(input(\"Please Ensert A Number : \"))\n",
        "n = int(input(\"Please Ensert another Number : \"))\n",
        "\n",
        "max_ = max(m, n)\n",
        "min_ = min(m, n)\n",
        "\n",
        "m_maghsums = set()\n",
        "n_maghsums = set()\n",
        "\n",
        "for i in range(1, m + 1):\n",
        "  if m % i == 0:\n",
        "    m_maghsums.add(i)\n",
        "\n",
        "for i in range(1, n + 1):\n",
        "  if n % i == 0:\n",
        "    n_maghsums.add(i)\n",
        "\n",
        "print(\"BMM :\",max(m_maghsums & n_maghsums))\n",
        "\n",
        "print(\"KMM :\",(m * n) / max(m_maghsums & n_maghsums))"
      ],
      "metadata": {
        "colab": {
          "base_uri": "https://localhost:8080/"
        },
        "id": "hNDMP9qijsHC",
        "outputId": "de27fd82-3801-4c26-81b8-c4e8a831dce1"
      },
      "execution_count": null,
      "outputs": [
        {
          "output_type": "stream",
          "name": "stdout",
          "text": [
            "Please Ensert A Number : 10\n",
            "Please Ensert another Number : 25\n",
            "BMM : 5\n",
            "KMM : 50.0\n"
          ]
        }
      ]
    },
    {
      "cell_type": "markdown",
      "source": [
        "برنامه ای بنویسید که عددی را دریافت کند و تعداد ارقام آن را چاپ کند"
      ],
      "metadata": {
        "id": "sWgqNoNFnbRh"
      }
    },
    {
      "cell_type": "code",
      "source": [
        "n = int(input(\"Please Enter Number : \"))\n",
        "\n",
        "counter = 0\n",
        "\n",
        "while n > 0 :\n",
        "  n //= 10\n",
        "  counter += 1\n",
        "\n",
        "print(counter)"
      ],
      "metadata": {
        "colab": {
          "base_uri": "https://localhost:8080/"
        },
        "id": "2IXE1wOUnrSL",
        "outputId": "25057031-d5f2-4c2d-d733-a529736862ef"
      },
      "execution_count": null,
      "outputs": [
        {
          "output_type": "stream",
          "name": "stdout",
          "text": [
            "Please Enter Number : 21321\n",
            "5\n"
          ]
        }
      ]
    },
    {
      "cell_type": "markdown",
      "source": [
        "برنامه ای بنویسید که اعداد را در مبنای 2 دریافت کنند و در مبنای 8 تحویل دهد"
      ],
      "metadata": {
        "id": "Gh9zpvCGwWab"
      }
    },
    {
      "cell_type": "code",
      "source": [
        "n = input(\"Please Ensert Binary Number : \")\n",
        "\n",
        "total = 0\n",
        "\n",
        "for i in enumerate(n):\n",
        "  if i[1] == '1':\n",
        "    total += (2 ** i[0])\n",
        "\n",
        "exit = str(oct(total)).replace(\"0o\", \"\")\n",
        "\n",
        "print(f\"oct is {exit}\")"
      ],
      "metadata": {
        "colab": {
          "base_uri": "https://localhost:8080/"
        },
        "id": "vPpfHMkqwgCb",
        "outputId": "44f3a2cb-8227-40c6-9ad8-6fa5e025ad10"
      },
      "execution_count": null,
      "outputs": [
        {
          "output_type": "stream",
          "name": "stdout",
          "text": [
            "Please Ensert Binary Number : 1101\n",
            "oct is 13\n"
          ]
        }
      ]
    },
    {
      "cell_type": "markdown",
      "source": [
        "برنامه ای بنویسید که اعدادی را ورودی بگیرد و بزرگترین آنها را چاپ کند"
      ],
      "metadata": {
        "id": "OogoaL43vNur"
      }
    },
    {
      "cell_type": "code",
      "source": [
        "n = int(input(\"Please Ensert N Number : \"))\n",
        "\n",
        "numbers = []\n",
        "\n",
        "i = 0\n",
        "\n",
        "while i < n:\n",
        "  numbers.append(int(input(\"Please Enter Number : \")))\n",
        "  i += 1\n",
        "\n",
        "\n",
        "print(f\"The Max Number is {max(numbers)}\")"
      ],
      "metadata": {
        "colab": {
          "base_uri": "https://localhost:8080/"
        },
        "id": "shGrxKVEvtNJ",
        "outputId": "ef16a95d-5a73-42c1-afcf-51abb9be53cb"
      },
      "execution_count": null,
      "outputs": [
        {
          "output_type": "stream",
          "name": "stdout",
          "text": [
            "Please Ensert N Number : 5\n",
            "Please Enter Number : 51\n",
            "Please Enter Number : 321\n",
            "Please Enter Number : 764\n",
            "Please Enter Number : 414\n",
            "Please Enter Number : 641\n",
            "The Max Number is 764\n"
          ]
        }
      ]
    },
    {
      "cell_type": "markdown",
      "source": [
        "برنامه ای بنویسید که نام و ساعت کاری فرد را دریافت کند و حقوق فرد را حساب کند"
      ],
      "metadata": {
        "id": "PHSg0Sv4ww-U"
      }
    },
    {
      "cell_type": "code",
      "source": [
        "numberOfWorker = int(input(\"Please Ensert Number of Workers : \"))\n",
        "\n",
        "i = 0\n",
        "\n",
        "total = 0\n",
        "\n",
        "for i in range(numberOfWorker):\n",
        "  name = input(\"Ensert Your Name : \")\n",
        "  amount = int(input(\"Please Ensert Your Amount : \"))\n",
        "  if amount >= 50:\n",
        "    total += ((amount - 50) * 1000 * 1.5) + 50 * 1000\n",
        "  else:\n",
        "    total += amount * 1000\n",
        "\n",
        "\n",
        "print(f\"Total of amounts is : {total}\")"
      ],
      "metadata": {
        "colab": {
          "base_uri": "https://localhost:8080/"
        },
        "id": "6FLAG47byd_Y",
        "outputId": "2184d535-95a3-4c97-a04d-e53e4e6df323"
      },
      "execution_count": null,
      "outputs": [
        {
          "output_type": "stream",
          "name": "stdout",
          "text": [
            "Please Ensert Number of Workers : 4\n",
            "Ensert Your Name : Arash\n",
            "Please Ensert Your Amount : 60\n",
            "Ensert Your Name : Ali\n",
            "Please Ensert Your Amount : 51\n",
            "Ensert Your Name : Mostafa\n",
            "Please Ensert Your Amount : 90\n",
            "Ensert Your Name : Karim\n",
            "Please Ensert Your Amount : 70\n",
            "Total of amounts is : 306500.0\n"
          ]
        }
      ]
    },
    {
      "cell_type": "markdown",
      "source": [
        "برنامه ای بنویسید که حقوق کارمند را بخواند اگر حقوق 25000 تومان بود به آن 5% اضافه کند و اگر کسی حقوقشش بین 25000 تا 35000 تومان بود 7% و اگر بیشتر بود 10% اضافه کند"
      ],
      "metadata": {
        "id": "H_cg3ugD1hLY"
      }
    },
    {
      "cell_type": "code",
      "source": [
        "amount = int(input(\"Please Ensert Your Amount : \"))\n",
        "\n",
        "final_amount = 0\n",
        "\n",
        "if amount <= 25000:\n",
        "  final_amount = amount + (amount * 0.05)\n",
        "if 2500 < amount < 3500:\n",
        "  final_amount = amount + (amount * 0.07)\n",
        "if 3500 <= amount:\n",
        "  final_amount = amount + (amount * 0.1)\n",
        "\n",
        "print(final_amount)"
      ],
      "metadata": {
        "colab": {
          "base_uri": "https://localhost:8080/"
        },
        "id": "nZfRZowl2L__",
        "outputId": "2670936e-9ce8-40a2-e13a-f2cf0651330d"
      },
      "execution_count": null,
      "outputs": [
        {
          "output_type": "stream",
          "name": "stdout",
          "text": [
            "Please Ensert Your Amount : 4000\n",
            "4400.0\n"
          ]
        }
      ]
    }
  ]
}